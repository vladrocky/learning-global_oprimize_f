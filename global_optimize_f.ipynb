{
 "cells": [
  {
   "cell_type": "markdown",
   "metadata": {},
   "source": [
    "# Глобальная оптимизация"
   ]
  },
  {
   "cell_type": "markdown",
   "metadata": {},
   "source": [
    "$$ f(x) = sin(x / 5) * exp(x / 10) + 5 * exp(-x / 2) $$\n",
    "\n",
    "$$ промежуток [1,30]$$"
   ]
  },
  {
   "cell_type": "code",
   "execution_count": 1,
   "metadata": {},
   "outputs": [],
   "source": [
    "import scipy\n",
    "from scipy import optimize\n",
    "import math"
   ]
  },
  {
   "cell_type": "code",
   "execution_count": 2,
   "metadata": {},
   "outputs": [],
   "source": [
    "# исходная функция, вычисление значений\n",
    "def our_func(x):\n",
    "    return (math.sin(x/5.0))*(math.exp(x/10.0)) + 5*(math.exp(-x/2.0))"
   ]
  },
  {
   "cell_type": "code",
   "execution_count": 3,
   "metadata": {
    "scrolled": true
   },
   "outputs": [
    {
     "name": "stdout",
     "output_type": "stream",
     "text": [
      "     fun: -11.8988946659813\n",
      "     jac: array([0.])\n",
      " message: 'Optimization terminated successfully.'\n",
      "    nfev: 83L\n",
      "     nit: 4\n",
      " success: True\n",
      "       x: array([25.8801933])\n"
     ]
    }
   ],
   "source": [
    "res = scipy.optimize.differential_evolution(our_func, [(1,30)]) \n",
    "# список кортежей - это список областей определения для каждого аргумента функции\n",
    "print res"
   ]
  },
  {
   "cell_type": "code",
   "execution_count": 4,
   "metadata": {
    "scrolled": true
   },
   "outputs": [
    {
     "name": "stdout",
     "output_type": "stream",
     "text": [
      "[25.8801933] -11.898894666\n"
     ]
    }
   ],
   "source": [
    "fun_value = res.fun\n",
    "print res.x, res.fun"
   ]
  },
  {
   "cell_type": "markdown",
   "metadata": {},
   "source": [
    "## Ответ:\n",
    "$$ x = 25.88019326$$\n",
    "$$fun = -11.898894666 $$"
   ]
  },
  {
   "cell_type": "markdown",
   "metadata": {},
   "source": [
    "Данный результат корректный и соотносятся с графиком исходной функции.\n",
    "    Количество вычислений для дифференциального генетического алгоритма значительно выше (nfev = 98) чем у BFGS (nfev = 21), как и колличество совершенных итераци. Это соотносится с особенностями работы обоих алгоритмов."
   ]
  },
  {
   "cell_type": "markdown",
   "metadata": {},
   "source": [
    "#### Запись результатов в файл"
   ]
  },
  {
   "cell_type": "code",
   "execution_count": 5,
   "metadata": {},
   "outputs": [],
   "source": [
    "\n",
    "with open('task_srcond_answer.txt', 'w') as func_value:\n",
    "    func_value.write(str(fun_value))"
   ]
  }
 ],
 "metadata": {
  "kernelspec": {
   "display_name": "Python 2.7.16 ('base')",
   "language": "python",
   "name": "python3"
  },
  "language_info": {
   "codemirror_mode": {
    "name": "ipython",
    "version": 2
   },
   "file_extension": ".py",
   "mimetype": "text/x-python",
   "name": "python",
   "nbconvert_exporter": "python",
   "pygments_lexer": "ipython2",
   "version": "2.7.16"
  },
  "vscode": {
   "interpreter": {
    "hash": "02bec81eb7abda00c1892cd9a67ebd1f5d8bbb52e885618613884d7cb3715ad3"
   }
  }
 },
 "nbformat": 4,
 "nbformat_minor": 2
}
